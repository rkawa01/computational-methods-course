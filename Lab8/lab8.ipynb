{
 "cells": [
  {
   "attachments": {},
   "cell_type": "markdown",
   "metadata": {},
   "source": [
    "# Zadanie 1"
   ]
  },
  {
   "cell_type": "code",
   "execution_count": 65,
   "metadata": {},
   "outputs": [],
   "source": [
    "import numpy as np\n",
    "import networkx as nx\n",
    "import matplotlib.pyplot as plt"
   ]
  },
  {
   "cell_type": "code",
   "execution_count": 54,
   "metadata": {},
   "outputs": [],
   "source": [
    "def pagerank_1(M, num_iterations: int = 100, d: float = 0.85):\n",
    "    N = M.shape[1]\n",
    "    v = np.ones(N) / N\n",
    "    M_hat = (d * M)\n",
    "    for _ in range(num_iterations):\n",
    "        v = M_hat @ v\n",
    "    return v"
   ]
  },
  {
   "cell_type": "code",
   "execution_count": 55,
   "metadata": {},
   "outputs": [
    {
     "name": "stdout",
     "output_type": "stream",
     "text": [
      "[2.33149686e-08 1.16621721e-08 1.16621721e-08 1.75060966e-08\n",
      " 2.33313270e-08]\n"
     ]
    }
   ],
   "source": [
    "M = np.array([[0, 0, 0, 0, 1],\n",
    "              [0.5, 0, 0, 0, 0],\n",
    "              [0.5, 0, 0, 0, 0],\n",
    "              [0, 1, 0.5, 0, 0],\n",
    "              [0, 0, 0.5, 1, 0]])\n",
    "v = pagerank_1(M, 100, 0.85)\n",
    "print(v)"
   ]
  },
  {
   "attachments": {},
   "cell_type": "markdown",
   "metadata": {},
   "source": [
    "# Zadanie 2"
   ]
  },
  {
   "cell_type": "code",
   "execution_count": 84,
   "metadata": {},
   "outputs": [],
   "source": [
    "# https://en.wikipedia.org/wiki/PageRank\n",
    "def pagerank_2(M, num_iterations: int = 100, d: float = 0.85):\n",
    "    N = M.shape[1]\n",
    "    v = np.ones(N) / N\n",
    "    # M_hat = (d * M + (1 - d) / N)\n",
    "    norms = []\n",
    "    for i in range(num_iterations):\n",
    "        v_last = v\n",
    "        v = d * M @ v + (1 - d) / N\n",
    "        norms.append(np.linalg.norm(v - v_last,1))\n",
    "    return v,norms"
   ]
  },
  {
   "cell_type": "code",
   "execution_count": 85,
   "metadata": {},
   "outputs": [
    {
     "name": "stdout",
     "output_type": "stream",
     "text": [
      "[0.25419178 0.13803151 0.13803151 0.20599017 0.26375504]\n"
     ]
    },
    {
     "data": {
      "text/plain": [
       "[<matplotlib.lines.Line2D at 0x12aca1a10>]"
      ]
     },
     "execution_count": 85,
     "metadata": {},
     "output_type": "execute_result"
    },
    {
     "data": {
      "image/png": "[encoded data removed]",
      "text/plain": [
       "<Figure size 640x480 with 1 Axes>"
      ]
     },
     "metadata": {},
     "output_type": "display_data"
    }
   ],
   "source": [
    "M = np.array([[0, 0, 0, 0, 1],\n",
    "              [0.5, 0, 0, 0, 0],\n",
    "              [0.5, 0, 0, 0, 0],\n",
    "              [0, 1, 0.5, 0, 0],\n",
    "              [0, 0, 0.5, 1, 0]])\n",
    "v,norms = pagerank_2(M, 100, 0.85)\n",
    "print(v)\n",
    "\n",
    "plt.plot(norms)\n"
   ]
  },
  {
   "cell_type": "code",
   "execution_count": 3,
   "metadata": {},
   "outputs": [],
   "source": [
    "# https://www.geeksforgeeks.org/page-rank-algorithm-implementation/\n",
    "def pagerank(G, alpha=0.85, personalization=None,\n",
    "\t\t\tmax_iter=100, tol=1.0e-6, nstart=None, weight='weight',\n",
    "\t\t\tdangling=None):\n",
    "\n",
    "\tif len(G) == 0:\n",
    "\t\treturn {}\n",
    "\n",
    "\tif not G.is_directed():\n",
    "\t\tD = G.to_directed()\n",
    "\telse:\n",
    "\t\tD = G\n",
    "\n",
    "\t# Create a copy in (right) stochastic form\n",
    "\tW = nx.stochastic_graph(D, weight=weight)\n",
    "\tN = W.number_of_nodes()\n",
    "\n",
    "\t# Choose fixed starting vector if not given\n",
    "\tif nstart is None:\n",
    "\t\tx = dict.fromkeys(W, 1.0 / N)\n",
    "\telse:\n",
    "\t\t# Normalized nstart vector\n",
    "\t\ts = float(sum(nstart.values()))\n",
    "\t\tx = dict((k, v / s) for k, v in nstart.items())\n",
    "\n",
    "\tif personalization is None:\n",
    "\n",
    "\t\t# Assign uniform personalization vector if not given\n",
    "\t\tp = dict.fromkeys(W, 1.0 / N)\n",
    "\telse:\n",
    "\t\tmissing = set(G) - set(personalization)\n",
    "\t\tif missing:\n",
    "\t\t\traise NetworkXError('Personalization dictionary '\n",
    "\t\t\t\t\t\t\t\t'must have a value for every node. '\n",
    "\t\t\t\t\t\t\t\t'Missing nodes %s' % missing)\n",
    "\t\ts = float(sum(personalization.values()))\n",
    "\t\tp = dict((k, v / s) for k, v in personalization.items())\n",
    "\n",
    "\tif dangling is None:\n",
    "\n",
    "\t\t# Use personalization vector if dangling vector not specified\n",
    "\t\tdangling_weights = p\n",
    "\telse:\n",
    "\t\tmissing = set(G) - set(dangling)\n",
    "\t\tif missing:\n",
    "\t\t\traise NetworkXError('Dangling node dictionary '\n",
    "\t\t\t\t\t\t\t\t'must have a value for every node. '\n",
    "\t\t\t\t\t\t\t\t'Missing nodes %s' % missing)\n",
    "\t\ts = float(sum(dangling.values()))\n",
    "\t\tdangling_weights = dict((k, v/s) for k, v in dangling.items())\n",
    "\tdangling_nodes = [n for n in W if W.out_degree(n, weight=weight) == 0.0]\n",
    "\n",
    "\t# power iteration: make up to max_iter iterations\n",
    "\tfor _ in range(max_iter):\n",
    "\t\txlast = x\n",
    "\t\tx = dict.fromkeys(xlast.keys(), 0)\n",
    "\t\tdanglesum = alpha * sum(xlast[n] for n in dangling_nodes)\n",
    "\t\tfor n in x:\n",
    "\n",
    "\t\t\t# this matrix multiply looks odd because it is\n",
    "\t\t\t# doing a left multiply x^T=xlast^T*W\n",
    "\t\t\tfor nbr in W[n]:\n",
    "\t\t\t\tx[nbr] += alpha * xlast[n] * W[n][nbr][weight]\n",
    "\t\t\tx[n] += danglesum * dangling_weights[n] + (1.0 - alpha) * p[n]\n",
    "\n",
    "\t\t# check convergence, l1 norm\n",
    "\t\terr = sum([abs(x[n] - xlast[n]) for n in x])\n",
    "\t\tif err < N*tol:\n",
    "\t\t\treturn x\n",
    "\traise NetworkXError('pagerank: power iteration failed to converge '\n",
    "\t\t\t\t\t\t'in %d iterations.' % max_iter)\n"
   ]
  },
  {
   "cell_type": "code",
   "execution_count": 5,
   "metadata": {},
   "outputs": [
    {
     "data": {
      "text/plain": [
       "{0: 0.035990077618838455,\n",
       " 1: 0.011342408252558781,\n",
       " 2: 0.010825939887623438,\n",
       " 3: 0.010305377313779548,\n",
       " 4: 0.010821056467120664,\n",
       " 5: 0.010298838155168058,\n",
       " 6: 0.009261354158945627,\n",
       " 7: 0.01030222063478433,\n",
       " 8: 0.009779328121444334,\n",
       " 9: 0.012386742963496584,\n",
       " 10: 0.010300607189311911,\n",
       " 11: 0.00926322824874053,\n",
       " 12: 0.00978166693211422,\n",
       " 13: 0.010822356493763088,\n",
       " 14: 0.010821809447717245,\n",
       " 15: 0.006663695394916744,\n",
       " 16: 0.01134609254982751,\n",
       " 17: 0.010823294173520783,\n",
       " 18: 0.011344131152090845,\n",
       " 19: 0.009257976174426606,\n",
       " 20: 0.009263883638025931,\n",
       " 21: 0.010824617205790357,\n",
       " 22: 0.00977707355981408,\n",
       " 23: 0.01030437846499736,\n",
       " 24: 0.010300740075252585,\n",
       " 25: 0.009258447189886429,\n",
       " 26: 0.010301561139600218,\n",
       " 27: 0.01030151301800174,\n",
       " 28: 0.009262819573298194,\n",
       " 29: 0.011344741844598402,\n",
       " 30: 0.01134523618554289,\n",
       " 31: 0.011864835840128093,\n",
       " 32: 0.009778342442636569,\n",
       " 33: 0.011344018117596014,\n",
       " 34: 0.01134689263758371,\n",
       " 35: 0.010828279976854342,\n",
       " 36: 0.010302518075395894,\n",
       " 37: 0.010822261654271343,\n",
       " 38: 0.008222827924316532,\n",
       " 39: 0.008737868151630203,\n",
       " 40: 0.009781831762177146,\n",
       " 41: 0.008741471153582144,\n",
       " 42: 0.03537129853881008,\n",
       " 43: 0.034828058405332485,\n",
       " 44: 0.03353496043071563,\n",
       " 45: 0.03309456572510526,\n",
       " 46: 0.03292532731246793,\n",
       " 47: 0.032410587359011755,\n",
       " 48: 0.03192746521484318,\n",
       " 49: 0.031107454864753907,\n",
       " 50: 0.03069096830766118,\n",
       " 51: 0.029961247253606826,\n",
       " 52: 0.029315675235858284,\n",
       " 53: 0.02891666793621482,\n",
       " 54: 0.02815345780094835,\n",
       " 55: 0.02758744123729752,\n",
       " 56: 0.02695352041268153,\n",
       " 57: 0.02636941438286295,\n",
       " 58: 0.02582067527852413,\n",
       " 59: 0.025236853342134817}"
      ]
     },
     "execution_count": 5,
     "metadata": {},
     "output_type": "execute_result"
    }
   ],
   "source": [
    "\n",
    "G=nx.barabasi_albert_graph(60,41)\n",
    "pr=nx.pagerank(G)\n",
    "pr"
   ]
  },
  {
   "cell_type": "code",
   "execution_count": 99,
   "metadata": {},
   "outputs": [
    {
     "data": {
      "text/plain": [
       "[<matplotlib.lines.Line2D at 0x286d46cd0>]"
      ]
     },
     "execution_count": 99,
     "metadata": {},
     "output_type": "execute_result"
    },
    {
     "data": {
      "image/png": "[encoded data removed]",
      "text/plain": [
       "<Figure size 640x480 with 1 Axes>"
      ]
     },
     "metadata": {},
     "output_type": "display_data"
    }
   ],
   "source": [
    "G=nx.barabasi_albert_graph(60,59)\n",
    "M = nx.adjacency_matrix(nx.stochastic_graph(G.to_directed())).todense().T\n",
    "\n",
    "v,norms = pagerank_2(M)\n",
    "\n",
    "plt.plot(norms)"
   ]
  },
  {
   "cell_type": "code",
   "execution_count": null,
   "metadata": {},
   "outputs": [],
   "source": []
  }
 ],
 "metadata": {
  "kernelspec": {
   "display_name": "Python 3",
   "language": "python",
   "name": "python3"
  },
  "language_info": {
   "codemirror_mode": {
    "name": "ipython",
    "version": 3
   },
   "file_extension": ".py",
   "mimetype": "text/x-python",
   "name": "python",
   "nbconvert_exporter": "python",
   "pygments_lexer": "ipython3",
   "version": "3.11.1"
  },
  "orig_nbformat": 4
 },
 "nbformat": 4,
 "nbformat_minor": 2
}
