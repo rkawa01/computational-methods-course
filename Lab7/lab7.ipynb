{
 "cells": [
  {
   "attachments": {},
   "cell_type": "markdown",
   "metadata": {},
   "source": [
    "## Lab7\n",
    "\n",
    "#### Zadanie 1"
   ]
  },
  {
   "cell_type": "code",
   "execution_count": 68,
   "metadata": {},
   "outputs": [],
   "source": [
    "import numpy as np\n",
    "import time\n",
    "import matplotlib.pyplot as plt\n",
    "from scipy.linalg import lu_factor, lu_solve\n",
    "\n",
    "\n"
   ]
  },
  {
   "attachments": {},
   "cell_type": "markdown",
   "metadata": {},
   "source": [
    "##### Power implementation"
   ]
  },
  {
   "cell_type": "code",
   "execution_count": 67,
   "metadata": {},
   "outputs": [],
   "source": [
    "def power_iteration(A, num_iterations: int = 1000, eps: float = 1e-9):\n",
    "    # Ideally choose a random vector\n",
    "    # To decrease the chance that our vector\n",
    "    # Is orthogonal to the eigenvector\n",
    "    b_k = np.random.rand(A.shape[1])\n",
    "    i = 0\n",
    "    for i in range(num_iterations):\n",
    "        # calculate the matrix-by-vector product Ab\n",
    "        b_k1 = np.dot(A, b_k)\n",
    "\n",
    "        # calculate the norm\n",
    "        b_k1_norm = np.linalg.norm(b_k1,np.inf)\n",
    "\n",
    "        # re normalize the vector\n",
    "        b_k_norm = b_k1 / b_k1_norm\n",
    "        if np.linalg.norm(b_k_norm-b_k, np.inf) < eps:\n",
    "            b_k = b_k_norm\n",
    "            break\n",
    "        b_k = b_k_norm\n",
    "\n",
    "    return i,b_k1_norm, (b_k/np.linalg.norm(b_k))"
   ]
  },
  {
   "cell_type": "code",
   "execution_count": 66,
   "metadata": {},
   "outputs": [
    {
     "name": "stdout",
     "output_type": "stream",
     "text": [
      "values\n",
      "\n",
      " numpy: [ 1.14251588 -0.30629264 -0.50314956]\n",
      " inverse_method: 1.142515881082015\n",
      "\n",
      "vectors\n",
      "\n",
      " numpy: [[-0.63592163 -0.93626691  0.23911837]\n",
      " [-0.46804606  0.31084981 -0.69786659]\n",
      " [-0.61362576  0.16363579  0.67513304]]\n",
      " inverse_method: [0.63592163 0.46804605 0.61362576]\n"
     ]
    }
   ],
   "source": [
    "A = np.random.rand(3,3)\n",
    "eig_value, eig_vectors = np.linalg.eig(A)\n",
    "iterations, power_value, power_vector = power_iteration(A)\n",
    "print(f\"values\\n\\n numpy: {eig_value}\\n inverse_method: {power_value}\\n\")\n",
    "print(f\"vectors\\n\\n numpy: {eig_vectors}\\n inverse_method: {power_vector}\")"
   ]
  },
  {
   "cell_type": "code",
   "execution_count": 6,
   "metadata": {},
   "outputs": [
    {
     "data": {
      "text/plain": [
       "<matplotlib.legend.Legend at 0x11d6dc9d0>"
      ]
     },
     "execution_count": 6,
     "metadata": {},
     "output_type": "execute_result"
    },
    {
     "data": {
      "image/png": "[encoded data removed]",
      "text/plain": [
       "<Figure size 640x480 with 1 Axes>"
      ]
     },
     "metadata": {},
     "output_type": "display_data"
    }
   ],
   "source": [
    "times, sizes = [], []\n",
    "times_eig = []\n",
    "for i in range(500, 1000, 50):\n",
    "    A = np.random.rand(i,i)\n",
    "\n",
    "    power_time = time.time()\n",
    "    power_iteration(A)\n",
    "    power_time = time.time()-power_time\n",
    "\n",
    "    times.append(power_time)\n",
    "    sizes.append(i)\n",
    "    power_time = time.time()\n",
    "    np.linalg.eig(A)\n",
    "    power_time = time.time()-power_time\n",
    "    times_eig.append(power_time)\n",
    "    \n",
    "\n",
    "# Draw linear plot\n",
    "plt.plot(sizes,times)\n",
    "plt.plot(sizes,times_eig)\n",
    "plt.legend(['Power Iteration', 'Numpy Eig'])"
   ]
  },
  {
   "attachments": {},
   "cell_type": "markdown",
   "metadata": {},
   "source": [
    "#### Zadanie 2"
   ]
  },
  {
   "attachments": {},
   "cell_type": "markdown",
   "metadata": {},
   "source": [
    "##### Inverse power implementation"
   ]
  },
  {
   "cell_type": "code",
   "execution_count": 53,
   "metadata": {},
   "outputs": [],
   "source": [
    "def inverse_iteration(A,mu,iterations=10000):\n",
    "    n = A.shape[0]\n",
    "    b_k = np.random.randn(n)\n",
    "    b_k = b_k/np.linalg.norm(b_k)\n",
    "    for i in range(iterations):\n",
    "        b_k_norm= np.linalg.inv(A-mu*np.eye(n)).dot(b_k)\n",
    "        b_k  = b_k_norm / np.linalg.norm(b_k_norm)\n",
    "        norm = b_k.T.dot(A).dot(b_k)\n",
    "    return(i,norm,b_k)\n"
   ]
  },
  {
   "cell_type": "code",
   "execution_count": 65,
   "metadata": {},
   "outputs": [
    {
     "name": "stdout",
     "output_type": "stream",
     "text": [
      "values\n",
      "\n",
      " numpy: [ 0.80540176+0.j         -0.11218909+0.13659781j -0.11218909-0.13659781j]\n",
      " inverse_method: 0.8054017588833962\n",
      "\n",
      "vectors\n",
      "\n",
      " numpy: [[ 0.39974412+0.j          0.05921743+0.11172139j  0.05921743-0.11172139j]\n",
      " [ 0.81869841+0.j         -0.93288924+0.j         -0.93288924-0.j        ]\n",
      " [ 0.41223482+0.j          0.26726373-0.20566815j  0.26726373+0.20566815j]]\n",
      " inverse_method: [-0.39974412 -0.81869841 -0.41223482]\n"
     ]
    }
   ],
   "source": [
    "A = np.random.rand(3,3)\n",
    "eig_value, eig_vectors = np.linalg.eig(A)\n",
    "iterations, inverse_value, inverse_vector = inverse_iteration(A,3)\n",
    "print(f\"values\\n\\n numpy: {eig_value}\\n inverse_method: {inverse_value}\\n\")\n",
    "print(f\"vectors\\n\\n numpy: {eig_vectors}\\n inverse_method: {inverse_vector}\")"
   ]
  },
  {
   "attachments": {},
   "cell_type": "markdown",
   "metadata": {},
   "source": [
    "##### Rayleigh"
   ]
  },
  {
   "cell_type": "code",
   "execution_count": 69,
   "metadata": {},
   "outputs": [],
   "source": [
    "def rayleigh_quotient_iteration(A,nb_iterations):\n",
    "    n = A.shape[0]\n",
    "    v = np.random.randn(n)\n",
    "    v = v/np.linalg.norm(v)\n",
    "    l = v.T.dot(A.dot(v))\n",
    "    for i in range(nb_iterations):\n",
    "        w = np.linalg.inv(A-l*np.eye(n)).dot(v)\n",
    "        v  = w / np.linalg.norm(w)\n",
    "        l = v.T.dot(A).dot(v)\n",
    "    return(v,l)"
   ]
  },
  {
   "cell_type": "code",
   "execution_count": 71,
   "metadata": {},
   "outputs": [
    {
     "data": {
      "text/plain": [
       "(array([-0.90255286, -0.27914032,  0.32783993]), 2.49417703443778)"
      ]
     },
     "execution_count": 71,
     "metadata": {},
     "output_type": "execute_result"
    }
   ],
   "source": [
    "A = np.random.randn(3,3)\n",
    "A = A.T.dot(A)\n",
    "rayleigh_quotient_iteration(A,100)"
   ]
  },
  {
   "cell_type": "code",
   "execution_count": null,
   "metadata": {},
   "outputs": [],
   "source": []
  }
 ],
 "metadata": {
  "kernelspec": {
   "display_name": "Python 3",
   "language": "python",
   "name": "python3"
  },
  "language_info": {
   "codemirror_mode": {
    "name": "ipython",
    "version": 3
   },
   "file_extension": ".py",
   "mimetype": "text/x-python",
   "name": "python",
   "nbconvert_exporter": "python",
   "pygments_lexer": "ipython3",
   "version": "3.11.2"
  }
 },
 "nbformat": 4,
 "nbformat_minor": 0
}