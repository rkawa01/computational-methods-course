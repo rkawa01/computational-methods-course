{
 "cells": [
  {
   "cell_type": "markdown",
   "metadata": {
    "collapsed": true,
    "pycharm": {
     "name": "#%% md\n"
    }
   },
   "source": [
    "## Lab 3"
   ]
  },
  {
   "cell_type": "code",
   "execution_count": 2,
   "outputs": [],
   "source": [
    "import timeit\n",
    "import seaborn as sns\n",
    "import pandas as pd\n",
    "import matplotlib.pyplot as plt\n",
    "import math\n",
    "import numpy as np"
   ],
   "metadata": {
    "collapsed": false,
    "pycharm": {
     "name": "#%%\n"
    }
   }
  },
  {
   "cell_type": "markdown",
   "source": [
    "## Metoda bisekcji"
   ],
   "metadata": {
    "collapsed": false
   }
  },
  {
   "cell_type": "code",
   "execution_count": 27,
   "outputs": [],
   "source": [
    "def function_1(x,prec =np.float64):\n",
    "    return prec(np.cos(x)*np.cosh(x)-1)\n",
    "\n",
    "def function_2(x,prec = np.float64):\n",
    "    return prec(1/x - np.tan(x))\n",
    "\n",
    "def function_3(x,prec = np.float64):\n",
    "    return prec(2**(-x) + np.exp(x) + 2*np.cos(x)-6)\n",
    "\n",
    "def bisection(arr,function,prec = np.float64,eps = 1e-15):\n",
    "    tab = arr\n",
    "    x0 = 0\n",
    "    i = 0\n",
    "\n",
    "    while True:\n",
    "        x0 = prec((tab[1]-tab[0])/2 + tab[0])\n",
    "\n",
    "        if (abs(tab[1]-x0) < eps or abs(x0-tab[0]) < eps):\n",
    "            break\n",
    "        # print(abs(function(x0)))\n",
    "        if (abs(function(x0,prec)) < eps):\n",
    "\n",
    "            break\n",
    "        if(np.sign(function(tab[0],prec)) != np.sign(function(x0,prec))):\n",
    "            tab = [tab[0],x0]\n",
    "            # print(tab)\n",
    "        else:\n",
    "            tab = [x0,tab[1]]\n",
    "            # print(tab)\n",
    "        i+=1\n",
    "\n",
    "    print(f\"Ilośc iteracji: {i}, punkt {x0}, wartość {function(x0)}\")\n",
    "    # print(arr)"
   ],
   "metadata": {
    "collapsed": false,
    "pycharm": {
     "name": "#%%\n"
    }
   }
  },
  {
   "cell_type": "code",
   "execution_count": null,
   "outputs": [],
   "source": [],
   "metadata": {
    "collapsed": false,
    "pycharm": {
     "name": "#%%\n"
    }
   }
  },
  {
   "cell_type": "code",
   "execution_count": 28,
   "outputs": [
    {
     "name": "stdout",
     "output_type": "stream",
     "text": [
      "Ilośc iteracji: 49, punkt 4.7300407448627055, wartość 8.704148513061227e-14\n"
     ]
    }
   ],
   "source": [
    "bisection([3 / 2 * math.pi, 2 * math.pi],function_1,prec = np.float64,eps = 1e-15)"
   ],
   "metadata": {
    "collapsed": false,
    "pycharm": {
     "name": "#%%\n"
    }
   }
  },
  {
   "cell_type": "code",
   "execution_count": 20,
   "outputs": [
    {
     "name": "stdout",
     "output_type": "stream",
     "text": [
      "Ilośc iteracji: 51, punkt 0.8603335890193798, wartość 0.0\n"
     ]
    }
   ],
   "source": [
    "bisection([0.1, math.pi/2],function_2,eps=1e-15,prec = np.float64)"
   ],
   "metadata": {
    "collapsed": false,
    "pycharm": {
     "name": "#%%\n"
    }
   }
  },
  {
   "cell_type": "code",
   "execution_count": 19,
   "outputs": [
    {
     "name": "stdout",
     "output_type": "stream",
     "text": [
      "Ilośc iteracji: 62, punkt 1.8293836019338487, wartość 0.0\n"
     ]
    }
   ],
   "source": [
    "bisection([1,3],function_3,prec = np.float128,eps = 1e-33)\n",
    "# bisection_method(function_3,np.float128,1,3, 1e-15)\n"
   ],
   "metadata": {
    "collapsed": false,
    "pycharm": {
     "name": "#%%\n"
    }
   }
  },
  {
   "cell_type": "markdown",
   "source": [
    "\n",
    "Metoda Newtona"
   ],
   "metadata": {
    "collapsed": false
   }
  },
  {
   "cell_type": "code",
   "execution_count": null,
   "outputs": [],
   "source": [],
   "metadata": {
    "collapsed": false,
    "pycharm": {
     "name": "#%%\n"
    }
   }
  }
 ],
 "metadata": {
  "kernelspec": {
   "display_name": "Python 3",
   "language": "python",
   "name": "python3"
  },
  "language_info": {
   "codemirror_mode": {
    "name": "ipython",
    "version": 2
   },
   "file_extension": ".py",
   "mimetype": "text/x-python",
   "name": "python",
   "nbconvert_exporter": "python",
   "pygments_lexer": "ipython2",
   "version": "2.7.6"
  }
 },
 "nbformat": 4,
 "nbformat_minor": 0
}